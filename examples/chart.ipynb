{
 "cells": [
  {
   "cell_type": "code",
   "execution_count": 1,
   "metadata": {},
   "outputs": [],
   "source": [
    "using Francy"
   ]
  },
  {
   "cell_type": "code",
   "execution_count": 2,
   "metadata": {},
   "outputs": [
    {
     "data": {
      "application/vnd.francy+json": "{\"mime\":\"application/vnd.francy+json\",\"version\":\"1.0.4\",\"canvas\":{\"texTypesetting\":false,\"graph\":{},\"id\":\"id2\",\"menus\":{},\"messages\":{},\"height\":600,\"title\":\"bla\",\"zoomToFit\":true,\"chart\":{\"id\":\"id1\",\"type\":\"scatter\",\"labels\":false,\"legend\":\"\",\"axis\":{\"y\":{\"title\":\"y\",\"domain\":[],\"scale\":\"linear\"},\"x\":{\"title\":\"x\",\"domain\":[],\"scale\":\"linear\"}},\"data\":{\"d3\":[50,60,70,80,90],\"d1\":[100,20,30,47,90],\"d2\":[51,60,72,38,97]}},\"width\":800}}",
      "text/plain": [
       "Francy.Canvas(Dict{Symbol,Any}(:texTypesetting=>false,:graph=>Dict{Any,Any}(),:id=>\"id2\",:menus=>Dict{Any,Any}(),:messages=>Dict{Any,Any}(),:height=>600,:title=>\"bla\",:zoomToFit=>true,:chart=>Dict{Symbol,Any}(:id=>\"id1\",:type=>:scatter,:labels=>false,:legend=>\"\",:axis=>Dict(:y=>Dict(:title=>\"y\",:domain=>Any[],:scale=>:linear),:x=>Dict(:title=>\"x\",:domain=>Any[],:scale=>:linear)),:data=>Dict{Any,Any}(\"d3\"=>[50, 60, 70, 80, 90],\"d1\"=>[100, 20, 30, 47, 90],\"d2\"=>[51, 60, 72, 38, 97])),:width=>800…))"
      ]
     },
     "execution_count": 2,
     "metadata": {},
     "output_type": "execute_result"
    }
   ],
   "source": [
    "c = chart(:scatter)\n",
    "push!(c, (\"d1\", [100,20,30,47,90]))\n",
    "push!(c, (\"d2\", [51,60,72,38,97]))\n",
    "push!(c, (\"d3\", [50,60,70,80,90]))\n",
    "C = canvas(\"bla\")\n",
    "push!(C, c)\n",
    "C"
   ]
  },
  {
   "cell_type": "code",
   "execution_count": 3,
   "metadata": {},
   "outputs": [
    {
     "data": {
      "application/vnd.francy+json": "{\"mime\":\"application/vnd.francy+json\",\"version\":\"1.0.4\",\"canvas\":{\"texTypesetting\":false,\"graph\":{},\"id\":\"id4\",\"menus\":{},\"messages\":{},\"height\":600,\"title\":\"bla\",\"zoomToFit\":true,\"chart\":{\"id\":\"id3\",\"type\":\"bar\",\"labels\":false,\"legend\":\"\",\"axis\":{\"y\":{\"title\":\"y\",\"domain\":[],\"scale\":\"linear\"},\"x\":{\"title\":\"x\",\"domain\":[],\"scale\":\"linear\"}},\"data\":{\"d3\":[50,60,70,80,90],\"d1\":[100,20,30,47,90],\"d2\":[51,60,72,38,97]}},\"width\":800}}",
      "text/plain": [
       "Francy.Canvas(Dict{Symbol,Any}(:texTypesetting=>false,:graph=>Dict{Any,Any}(),:id=>\"id4\",:menus=>Dict{Any,Any}(),:messages=>Dict{Any,Any}(),:height=>600,:title=>\"bla\",:zoomToFit=>true,:chart=>Dict{Symbol,Any}(:id=>\"id3\",:type=>:bar,:labels=>false,:legend=>\"\",:axis=>Dict(:y=>Dict(:title=>\"y\",:domain=>Any[],:scale=>:linear),:x=>Dict(:title=>\"x\",:domain=>Any[],:scale=>:linear)),:data=>Dict{Any,Any}(\"d3\"=>[50, 60, 70, 80, 90],\"d1\"=>[100, 20, 30, 47, 90],\"d2\"=>[51, 60, 72, 38, 97])),:width=>800…))"
      ]
     },
     "execution_count": 3,
     "metadata": {},
     "output_type": "execute_result"
    }
   ],
   "source": [
    "c = chart(:bar)\n",
    "push!(c, (\"d1\", [100,20,30,47,90]))\n",
    "push!(c, (\"d2\", [51,60,72,38,97]))\n",
    "push!(c, (\"d3\", [50,60,70,80,90]))\n",
    "C = canvas(\"bla\")\n",
    "push!(C, c)\n",
    "C"
   ]
  },
  {
   "cell_type": "code",
   "execution_count": 4,
   "metadata": {},
   "outputs": [
    {
     "data": {
      "application/vnd.francy+json": "{\"mime\":\"application/vnd.francy+json\",\"version\":\"1.0.4\",\"canvas\":{\"texTypesetting\":false,\"graph\":{},\"id\":\"id6\",\"menus\":{},\"messages\":{},\"height\":600,\"title\":\"bla\",\"zoomToFit\":true,\"chart\":{\"id\":\"id5\",\"type\":\"line\",\"labels\":false,\"legend\":\"\",\"axis\":{\"y\":{\"title\":\"y\",\"domain\":[],\"scale\":\"linear\"},\"x\":{\"title\":\"x\",\"domain\":[],\"scale\":\"linear\"}},\"data\":{\"d3\":[50,60,70,80,90],\"d1\":[100,20,30,47,90],\"d2\":[51,60,72,38,97]}},\"width\":800}}",
      "text/plain": [
       "Francy.Canvas(Dict{Symbol,Any}(:texTypesetting=>false,:graph=>Dict{Any,Any}(),:id=>\"id6\",:menus=>Dict{Any,Any}(),:messages=>Dict{Any,Any}(),:height=>600,:title=>\"bla\",:zoomToFit=>true,:chart=>Dict{Symbol,Any}(:id=>\"id5\",:type=>:line,:labels=>false,:legend=>\"\",:axis=>Dict(:y=>Dict(:title=>\"y\",:domain=>Any[],:scale=>:linear),:x=>Dict(:title=>\"x\",:domain=>Any[],:scale=>:linear)),:data=>Dict{Any,Any}(\"d3\"=>[50, 60, 70, 80, 90],\"d1\"=>[100, 20, 30, 47, 90],\"d2\"=>[51, 60, 72, 38, 97])),:width=>800…))"
      ]
     },
     "execution_count": 4,
     "metadata": {},
     "output_type": "execute_result"
    }
   ],
   "source": [
    "c = chart(:line)\n",
    "push!(c, (\"d1\", [100,20,30,47,90]))\n",
    "push!(c, (\"d2\", [51,60,72,38,97]))\n",
    "push!(c, (\"d3\", [50,60,70,80,90]))\n",
    "C = canvas(\"bla\")\n",
    "push!(C, c)\n",
    "C"
   ]
  },
  {
   "cell_type": "code",
   "execution_count": null,
   "metadata": {},
   "outputs": [],
   "source": []
  }
 ],
 "metadata": {
  "kernelspec": {
   "display_name": "Julia 1.0.0",
   "language": "julia",
   "name": "julia-1.0"
  },
  "language_info": {
   "file_extension": ".jl",
   "mimetype": "application/julia",
   "name": "julia",
   "version": "1.0.0"
  }
 },
 "nbformat": 4,
 "nbformat_minor": 2
}
